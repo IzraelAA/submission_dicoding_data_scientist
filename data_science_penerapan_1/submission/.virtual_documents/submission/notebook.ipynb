











import pandas as pd
import matplotlib.pyplot as plt
import seaborn as sns








df = pd.read_csv('../submission/employee/employee_data.csv')


df.head()





















